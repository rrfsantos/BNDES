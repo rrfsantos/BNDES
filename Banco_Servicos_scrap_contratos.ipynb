{
  "nbformat": 4,
  "nbformat_minor": 0,
  "metadata": {
    "colab": {
      "name": "Banco_Servicos_scrap_contratos.ipynb",
      "provenance": [],
      "collapsed_sections": [],
      "machine_shape": "hm",
      "authorship_tag": "ABX9TyMevCt4ZUhAsqcD7kHP/gSZ",
      "include_colab_link": true
    },
    "kernelspec": {
      "name": "python3",
      "display_name": "Python 3"
    },
    "language_info": {
      "name": "python"
    }
  },
  "cells": [
    {
      "cell_type": "markdown",
      "metadata": {
        "id": "view-in-github",
        "colab_type": "text"
      },
      "source": [
        "<a href=\"https://colab.research.google.com/github/rrfsantos/BNDES-premiodadosabertos/blob/main/Banco_Servicos_scrap_contratos.ipynb\" target=\"_parent\"><img src=\"https://colab.research.google.com/assets/colab-badge.svg\" alt=\"Open In Colab\"/></a>"
      ]
    },
    {
      "cell_type": "code",
      "metadata": {
        "id": "7_TMUCBOUo3t"
      },
      "source": [
        "!sudo apt-get install poppler-utils\n",
        "!sudo apt-get install tesseract-ocr-por\n",
        "!python -m pip install pdf2image\n",
        "!python -m pip install pytesseract"
      ],
      "execution_count": null,
      "outputs": []
    },
    {
      "cell_type": "code",
      "metadata": {
        "id": "7UiaxpqciPIe"
      },
      "source": [
        "import pandas as pd\n",
        "import numpy as np\n",
        "import requests, zipfile, io\n",
        "import glob\n",
        "import os\n",
        "import json\n",
        "from pdf2image import convert_from_path\n",
        "import pytesseract # Módulo para a utilização da tecnologia OCR\n",
        "from pytesseract import Output"
      ],
      "execution_count": null,
      "outputs": []
    },
    {
      "cell_type": "code",
      "metadata": {
        "colab": {
          "base_uri": "https://localhost:8080/"
        },
        "id": "cjbfqwdPkcOY",
        "outputId": "4d6b5381-f61d-45d2-b8a2-69d9f72b03f1"
      },
      "source": [
        "from google.colab import drive\n",
        "drive.mount('/content/drive')\n",
        "\n",
        "workdir_path = '/content/drive/My Drive/BNDES/Banco de Servicos/'\n",
        "os.chdir(workdir_path)"
      ],
      "execution_count": null,
      "outputs": [
        {
          "output_type": "stream",
          "text": [
            "Mounted at /content/drive\n"
          ],
          "name": "stdout"
        }
      ]
    },
    {
      "cell_type": "code",
      "metadata": {
        "id": "LZm2L8g9ibAC"
      },
      "source": [
        "df1 = pd.read_csv('banco-servicos-banco-de-servicos.csv', sep=';', decimal=',', encoding='UTF-8')"
      ],
      "execution_count": null,
      "outputs": []
    },
    {
      "cell_type": "code",
      "metadata": {
        "id": "HIybhNYXU-y3"
      },
      "source": [
        "# Download e descompactação dos contratos do Banco de Serviços\n",
        "lista_projetos = df1['link_projeto'].to_list()\n",
        "for i in range(len(lista_projetos)):\n",
        "  r = requests.get(lista_projetos[i])\n",
        "  z = zipfile.ZipFile(io.BytesIO(r.content))\n",
        "  z.extractall('contratos')"
      ],
      "execution_count": null,
      "outputs": []
    },
    {
      "cell_type": "code",
      "metadata": {
        "id": "4xNrjwYcKfVh"
      },
      "source": [
        "# Selecionar pdfs de contratos\n",
        "pdf_path = glob.glob('contratos/*')\n",
        "pdf_contratos = []\n",
        "for i in range(len(pdf_path)):\n",
        "  if 'contrato' in (os.path.basename(pdf_path[i])).lower():\n",
        "    pdf_contratos.append(pdf_path[i])"
      ],
      "execution_count": null,
      "outputs": []
    },
    {
      "cell_type": "code",
      "metadata": {
        "id": "iQPBftdFwGIi"
      },
      "source": [
        "# Tranformação dos pdfs de contratos em imagems\n",
        "for i in range(len(pdf_contratos)):\n",
        "    pages = convert_from_path(pdf_contratos[i])\n",
        "    for j in range(len(pages)):\n",
        "      page = pages[j]\n",
        "      page.save('imagens/' + os.path.basename(pdf_contratos[i]).split('.')[0] + '_{}.jpg'.format(j), 'JPEG')"
      ],
      "execution_count": null,
      "outputs": []
    },
    {
      "cell_type": "code",
      "metadata": {
        "id": "aaHhfT0B8zT0"
      },
      "source": [
        "# Processamento das imagens com o Tesseract\n",
        "texto = dict()\n",
        "df2 = pd.DataFrame()\n",
        "lista_imagens = glob.glob('imagens/*')\n",
        "for i in range(len(lista_imagens)):\n",
        "  texto['X'+str(i)] = pytesseract.image_to_data(lista_imagens[i], lang ='por', output_type=Output.DICT)\n",
        "  d = pd.DataFrame(texto['X'+str(i)])\n",
        "  df2 = df2.append(d, ignore_index=True)"
      ],
      "execution_count": null,
      "outputs": []
    },
    {
      "cell_type": "code",
      "metadata": {
        "id": "y8BHoTN4e_cj"
      },
      "source": [
        "df2.tail()"
      ],
      "execution_count": null,
      "outputs": []
    },
    {
      "cell_type": "code",
      "metadata": {
        "id": "mHSHLeXgb4-S"
      },
      "source": [
        "df2.to_csv('contratos.csv', sep=';', encoding='UTF-8', index=False)"
      ],
      "execution_count": null,
      "outputs": []
    }
  ]
}