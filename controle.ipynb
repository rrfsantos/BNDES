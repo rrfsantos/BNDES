{
  "nbformat": 4,
  "nbformat_minor": 0,
  "metadata": {
    "kernelspec": {
      "language": "python",
      "display_name": "Python 3",
      "name": "python3"
    },
    "language_info": {
      "pygments_lexer": "ipython3",
      "nbconvert_exporter": "python",
      "version": "3.6.4",
      "file_extension": ".py",
      "codemirror_mode": {
        "name": "ipython",
        "version": 3
      },
      "name": "python",
      "mimetype": "text/x-python"
    },
    "colab": {
      "name": "controle.ipynb",
      "provenance": [],
      "include_colab_link": true
    }
  },
  "cells": [
    {
      "cell_type": "markdown",
      "metadata": {
        "id": "view-in-github",
        "colab_type": "text"
      },
      "source": [
        "<a href=\"https://colab.research.google.com/github/rrfsantos/BNDES-premiodadosabertos/blob/main/controle.ipynb\" target=\"_parent\"><img src=\"https://colab.research.google.com/assets/colab-badge.svg\" alt=\"Open In Colab\"/></a>"
      ]
    },
    {
      "cell_type": "code",
      "metadata": {
        "trusted": true,
        "colab": {
          "base_uri": "https://localhost:8080/"
        },
        "id": "YyjzerozQJ82",
        "outputId": "e1dfaa3e-3240-40b7-d78b-3c5a56bc68ef"
      },
      "source": [
        "print(\"Temperature range is 0 to 40\")\n",
        "print(\"Humidity range is 0 to 100\")"
      ],
      "execution_count": 1,
      "outputs": [
        {
          "output_type": "stream",
          "text": [
            "Temperature range is 0 to 40\n",
            "Humidity range is 0 to 100\n"
          ],
          "name": "stdout"
        }
      ]
    },
    {
      "cell_type": "markdown",
      "metadata": {
        "id": "8a4gL25EQJ86"
      },
      "source": [
        "# ***Enter temperature and humidity***"
      ]
    },
    {
      "cell_type": "code",
      "metadata": {
        "_uuid": "8f2839f25d086af736a60e9eeb907d3b93b6e0e5",
        "_cell_guid": "b1076dfc-b9ad-4769-8c92-a6c4dae69d19",
        "trusted": true,
        "colab": {
          "base_uri": "https://localhost:8080/"
        },
        "id": "5i_1W1MDQJ87",
        "outputId": "7f02c871-a843-4f5d-9af6-47134c96948e"
      },
      "source": [
        "t= int(input(\"Enter temperature: \"))\n",
        "h= int(input(\"Enter humidity: \"))"
      ],
      "execution_count": 2,
      "outputs": [
        {
          "output_type": "stream",
          "text": [
            "Enter temperature: 60\n",
            "Enter humidity: 50\n"
          ],
          "name": "stdout"
        }
      ]
    },
    {
      "cell_type": "markdown",
      "metadata": {
        "id": "oSoHrIGpQJ87"
      },
      "source": [
        "# ***Fuzzify the input***"
      ]
    },
    {
      "cell_type": "markdown",
      "metadata": {
        "id": "iEPLsExWQJ88"
      },
      "source": [
        "***For temperature***"
      ]
    },
    {
      "cell_type": "code",
      "metadata": {
        "_uuid": "d629ff2d2480ee46fbb7e2d37f6b5fab8052498a",
        "_cell_guid": "79c7e3d0-c299-4dcb-8224-4455121ee9b0",
        "trusted": true,
        "colab": {
          "base_uri": "https://localhost:8080/"
        },
        "id": "3M4-H-6bQJ88",
        "outputId": "d1f32ff8-a906-4c81-a876-4fa0a11f5ebd"
      },
      "source": [
        "fuzzified_temp= str()\n",
        "\n",
        "if t in range(36,41):\n",
        "    fuzzified_temp=\"hottest\"\n",
        "elif t in range(30,36):\n",
        "    fuzzified_temp=\"hot\"\n",
        "elif t in range(21,30):\n",
        "    fuzzified_temp=\"warm\"\n",
        "elif t in range(10,21):\n",
        "    fuzzified_temp=\"cold\"\n",
        "elif t in range(0,10):\n",
        "    fuzzified_temp=\"coldest\"\n",
        "print(t,fuzzified_temp)\n",
        "    "
      ],
      "execution_count": 3,
      "outputs": [
        {
          "output_type": "stream",
          "text": [
            "60 \n"
          ],
          "name": "stdout"
        }
      ]
    },
    {
      "cell_type": "markdown",
      "metadata": {
        "id": "azZwZ5fzQJ88"
      },
      "source": [
        "***For humidity***"
      ]
    },
    {
      "cell_type": "code",
      "metadata": {
        "trusted": true,
        "colab": {
          "base_uri": "https://localhost:8080/"
        },
        "id": "Pkhjl_r3QJ89",
        "outputId": "4c717b9a-c10b-42a0-aae3-90ea92f6a660"
      },
      "source": [
        "fuzzified_hum= str()\n",
        "\n",
        "if h in range(60,101):\n",
        "    fuzzified_hum=\"high\"\n",
        "elif h in range(30,60):\n",
        "    fuzzified_hum=\"optimal\"\n",
        "elif h in range(0,30):\n",
        "    fuzzified_hum=\"low\"\n",
        "\n",
        "print(h,fuzzified_hum)"
      ],
      "execution_count": 4,
      "outputs": [
        {
          "output_type": "stream",
          "text": [
            "50 optimal\n"
          ],
          "name": "stdout"
        }
      ]
    },
    {
      "cell_type": "markdown",
      "metadata": {
        "id": "BNIYBjEoQJ89"
      },
      "source": [
        "# ***AC knob levels***"
      ]
    },
    {
      "cell_type": "code",
      "metadata": {
        "trusted": true,
        "id": "5Q20sLElQJ8-"
      },
      "source": [
        "knob_1= \"Tuning the AC to very cold mode....\"\n",
        "knob_2= \"Tuning the AC to cold mode....\"\n",
        "knob_3= \"Tuning the AC to no change mode....\"\n",
        "knob_4= \"Tuning the AC to warm mode....\"\n",
        "knob_5= \"Tuning the AC to very warm mode....\""
      ],
      "execution_count": 5,
      "outputs": []
    },
    {
      "cell_type": "markdown",
      "metadata": {
        "id": "CV0eqhXjQJ8-"
      },
      "source": [
        "# ***Rules to determine***"
      ]
    },
    {
      "cell_type": "code",
      "metadata": {
        "trusted": true,
        "id": "X-8dDsGGQJ8-"
      },
      "source": [
        "decision= str()\n",
        "if fuzzified_temp==\"hottest\" and fuzzified_hum==\"high\":\n",
        "    decision = knob_1\n",
        "elif fuzzified_temp==\"hottest\" and fuzzified_hum==\"optimal\":\n",
        "    decision = knob_1\n",
        "elif fuzzified_temp==\"hottest\" and fuzzified_hum==\"low\":\n",
        "    decision = knob_1\n",
        "elif fuzzified_temp==\"hot\" and fuzzified_hum==\"high\":\n",
        "    decision = knob_2\n",
        "elif fuzzified_temp==\"hot\" and fuzzified_hum==\"optimal\":\n",
        "    decision = knob_2\n",
        "elif fuzzified_temp==\"hot\" and fuzzified_hum==\"low\":\n",
        "    decision = knob_2\n",
        "elif fuzzified_temp==\"warm\" and fuzzified_hum==\"high\":\n",
        "    decision = knob_2\n",
        "elif fuzzified_temp==\"warm\" and fuzzified_hum==\"optimal\":\n",
        "    decision = knob_3\n",
        "elif fuzzified_temp==\"warm\" and fuzzified_hum==\"low\":\n",
        "    decision = knob_3\n",
        "elif fuzzified_temp==\"cold\" and fuzzified_hum==\"high\":\n",
        "    decision = knob_4\n",
        "elif fuzzified_temp==\"cold\" and fuzzified_hum==\"optimal\":\n",
        "    decision = knob_3\n",
        "elif fuzzified_temp==\"cold\" and fuzzified_hum==\"low\":\n",
        "    decision = knob_4\n",
        "elif fuzzified_temp==\"coldest\" and fuzzified_hum==\"high\":\n",
        "    decision = knob_5\n",
        "elif fuzzified_temp==\"coldest\" and fuzzified_hum==\"optimal\":\n",
        "    decision = knob_4\n",
        "elif fuzzified_temp==\"coldest\" and fuzzified_hum==\"low\":\n",
        "    decision = knob_5"
      ],
      "execution_count": 6,
      "outputs": []
    },
    {
      "cell_type": "markdown",
      "metadata": {
        "id": "9_61hdy3QJ8_"
      },
      "source": [
        "# ***Final decision***"
      ]
    },
    {
      "cell_type": "code",
      "metadata": {
        "trusted": true,
        "colab": {
          "base_uri": "https://localhost:8080/"
        },
        "id": "k4ZJtS-DQJ8_",
        "outputId": "9532553e-e2d6-429a-b1f3-825321d221b7"
      },
      "source": [
        "print(\"Room temperature is \" + str(t))\n",
        "print(\"Room humidity is \" + str(h))\n",
        "print(decision)"
      ],
      "execution_count": 7,
      "outputs": [
        {
          "output_type": "stream",
          "text": [
            "Room temperature is 60\n",
            "Room humidity is 50\n",
            "\n"
          ],
          "name": "stdout"
        }
      ]
    }
  ]
}